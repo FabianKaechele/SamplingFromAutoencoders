{
 "cells": [
  {
   "cell_type": "markdown",
   "id": "585069be",
   "metadata": {},
   "source": [
    "## Train VAE and AE on MNIST"
   ]
  },
  {
   "cell_type": "code",
   "execution_count": null,
   "id": "dc4e6037-6ab8-4a55-a414-e26cfb571437",
   "metadata": {},
   "outputs": [],
   "source": [
    "import torch\n",
    "import torch.nn as nn\n",
    "import torch.optim as optim\n",
    "import torchvision\n",
    "from torchvision.datasets import MNIST,CelebA\n",
    "from torch.utils.data import DataLoader\n",
    "from torch.autograd import Variable\n",
    "from torchvision import transforms\n",
    "import os\n",
    "import timeit\n",
    "import numpy as np\n",
    "from AE import *\n",
    "import torch.nn.functional as F\n",
    "from tqdm.notebook import tqdm\n",
    "import operator"
   ]
  },
  {
   "cell_type": "code",
   "execution_count": null,
   "id": "1b1e2bc7-6d9a-40e7-89f3-bce70115000f",
   "metadata": {},
   "outputs": [],
   "source": [
    "path1 = %pwd\n",
    "device=torch.device(\"cuda\" if torch.cuda.is_available() else \"cpu\")\n",
    "transform_MNIST = transforms.Compose([\n",
    "    transforms.ToTensor(),\n",
    "    transforms.ToPILImage(),\n",
    "    transforms.Pad(2),\n",
    "    transforms.ToTensor(),\n",
    "])\n",
    "transform_CelebA = transforms.Compose([\n",
    "    transforms.CenterCrop(140),\n",
    "    transforms.Scale((64,64)),\n",
    "    transforms.ToTensor(),\n",
    "    transforms.Normalize((0.5, 0.5, 0.5), (0.5, 0.5, 0.5)),\n",
    "])\n",
    "dataset = MNIST(path1,train=True, transform=transform_MNIST, download=False)\n"
   ]
  },
  {
   "cell_type": "code",
   "execution_count": null,
   "id": "4bc757fd-8536-4f3e-be32-62251ba9c251",
   "metadata": {},
   "outputs": [],
   "source": [
    "def get_data_loader(dataset, batch_size, cuda=False):\n",
    "    return DataLoader(\n",
    "        dataset, batch_size=batch_size, shuffle=True,\n",
    "        **({'num_workers': 10, 'pin_memory': True} if cuda else {})\n",
    "    )"
   ]
  },
  {
   "cell_type": "code",
   "execution_count": null,
   "id": "155b9778-9ee7-48a8-8926-5b56f18c7808",
   "metadata": {},
   "outputs": [],
   "source": [
    "def train_AE(model, dataset, epochs=200, \n",
    "         batch_size=128, img_size=32,\n",
    "         lr=1e-3, weight_decay=1e-3,\n",
    "         device=torch.device(\"cuda\" if torch.cuda.is_available() else \"cpu\")):\n",
    "    \n",
    "    \n",
    "    model = model.to(device)    \n",
    "    criterion = torch.nn.BCELoss(size_average=False)\n",
    "    optimizer = optim.Adam(model.parameters(), lr=lr, weight_decay=weight_decay)\n",
    "    \n",
    "    \n",
    "    resume=False  # set true if you want to continue training\n",
    "    if resume:\n",
    "        model=AE_MNIST(image_size=32, channel_num=1,kernel_num=128, z_size=10)\n",
    "        model.load_state_dict(torch.load('./_____.pth',map_location=torch.device('cuda'))) # replace modelname of to load correct model\n",
    "        model.to(torch.device(\"cuda:0\"))\n",
    "        epoch_start=xxx # set epoch-counter to start on\n",
    "        print('model loaded')\n",
    "        resume=False\n",
    "    else:\n",
    "        epoch_start = 0\n",
    "        \n",
    "    for epoch in range(epoch_start,epochs+1):\n",
    "        model.train()\n",
    "        data_loader=get_data_loader(dataset, batch_size=batch_size,cuda=True)\n",
    "        print(\"Epoch {}\".format(epoch))\n",
    "        for batch_index, (x, _) in tqdm(enumerate(data_loader, 1)):\n",
    "            x = x.to(device)\n",
    "            x_reconstructed = model(x)\n",
    "            loss = criterion(x_reconstructed, x)/ x.size(0)            \n",
    "            optimizer.zero_grad()\n",
    "            loss.backward()\n",
    "            optimizer.step()\n",
    "        print(\"epoch : {}/{}, recon loss = {:.8f}\".format(epoch + 1, epochs, loss))            \n",
    "        if epoch > 0 and epoch % 2 == 0: \n",
    "           \n",
    "            torch.save(model.state_dict(), './ae_MNIST_{}.pth'.format(epoch))"
   ]
  },
  {
   "cell_type": "code",
   "execution_count": null,
   "id": "a4c8dd4f-85bd-496f-82d1-8e0ae8c76051",
   "metadata": {},
   "outputs": [],
   "source": [
    "def train_VAE(model, dataset, epochs=200, \n",
    "         batch_size=128, img_size=32,\n",
    "         lr=1e-3, weight_decay=1e-3,\n",
    "         device=torch.device(\"cuda\" if torch.cuda.is_available() else \"cpu\")):\n",
    "   \n",
    "    \n",
    "    model = model.to(device)    \n",
    "    criterion = torch.nn.BCELoss(size_average=False)\n",
    "    optimizer = optim.Adam(model.parameters(), lr=lr, weight_decay=weight_decay)\n",
    "\n",
    "    for epoch in range(epochs):\n",
    "        model.train()\n",
    "        data_loader=get_data_loader(dataset, batch_size=batch_size,cuda=True)\n",
    "        print(\"Epoch {}\".format(epoch))\n",
    "        for batch_index, (x, _) in tqdm(enumerate(data_loader, 1)):\n",
    "            x = x.to(device)\n",
    "            (mean, logvar), x_reconstructed = model(x)\n",
    "            penalization_loss = model.kl_divergence_loss(mean, logvar)\n",
    "            reconstruction_loss = criterion(x_reconstructed, x) / x.size(0)\n",
    "            loss = reconstruction_loss + penalization_loss\n",
    "            \n",
    "            optimizer.zero_grad()\n",
    "            loss.backward()\n",
    "            optimizer.step()\n",
    "        print(\"epoch : {}/{}, recon loss = {:.8f}\".format(epoch + 1, epochs, loss))  \n",
    "        if epoch > 0 and epoch % 2 == 0: \n",
    "           \n",
    "            torch.save(model.state_dict(), './vae_MNIST_{}.pth'.format(epoch))\n",
    "        "
   ]
  },
  {
   "cell_type": "markdown",
   "id": "2380d2d5",
   "metadata": {},
   "source": [
    "#### Train VAE"
   ]
  },
  {
   "cell_type": "code",
   "execution_count": null,
   "id": "cce5b2f8-cd78-4483-a70d-da07a8df4e33",
   "metadata": {},
   "outputs": [],
   "source": [
    "model = VAE_MNIST(image_size=32, channel_num=1,kernel_num=128, z_size=10)"
   ]
  },
  {
   "cell_type": "code",
   "execution_count": null,
   "id": "d69b2b26-69c2-47e3-ab0c-bf3df60546ea",
   "metadata": {},
   "outputs": [],
   "source": [
    "epochs = 200\n",
    "start = timeit.default_timer()\n",
    "train_VAE(model, dataset, epochs)\n",
    "end = timeit.default_timer()\n",
    "print(\"Runtime: \",end-start)"
   ]
  },
  {
   "cell_type": "markdown",
   "id": "8b37b52b",
   "metadata": {},
   "source": [
    "#### Train AE"
   ]
  },
  {
   "cell_type": "code",
   "execution_count": null,
   "id": "61ee6137",
   "metadata": {},
   "outputs": [],
   "source": [
    "model = AE_MNIST(image_size=32, channel_num=1,kernel_num=128, z_size=10)"
   ]
  },
  {
   "cell_type": "code",
   "execution_count": null,
   "id": "910d5e6c-e8ae-4f21-b520-327b2c5e2b38",
   "metadata": {},
   "outputs": [],
   "source": [
    "epochs = 200\n",
    "start = timeit.default_timer()\n",
    "train_AE(model, dataset, epochs)\n",
    "end = timeit.default_timer()\n",
    "print(\"Runtime: \",end-start)"
   ]
  }
 ],
 "metadata": {
  "kernelspec": {
   "display_name": "Python 3 (ipykernel)",
   "language": "python",
   "name": "python3"
  },
  "language_info": {
   "codemirror_mode": {
    "name": "ipython",
    "version": 3
   },
   "file_extension": ".py",
   "mimetype": "text/x-python",
   "name": "python",
   "nbconvert_exporter": "python",
   "pygments_lexer": "ipython3",
   "version": "3.7.11"
  }
 },
 "nbformat": 4,
 "nbformat_minor": 5
}
