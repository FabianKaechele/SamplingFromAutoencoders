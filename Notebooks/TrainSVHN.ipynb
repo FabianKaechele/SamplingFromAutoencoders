{
 "cells": [
  {
   "cell_type": "markdown",
   "id": "d947049b",
   "metadata": {},
   "source": [
    "## Train VAE and AE on SVHN"
   ]
  },
  {
   "cell_type": "code",
   "execution_count": null,
   "id": "8789600b",
   "metadata": {},
   "outputs": [],
   "source": [
    "import torch\n",
    "import torch.nn as nn\n",
    "import torch.optim as optim\n",
    "import torchvision\n",
    "from torchvision.datasets import MNIST,CelebA\n",
    "from torch.utils.data import DataLoader\n",
    "from torch.autograd import Variable\n",
    "from torchvision import transforms\n",
    "import os\n",
    "from tqdm.notebook import tqdm\n",
    "from AE import *\n",
    "import numpy as np\n",
    "\n",
    "import torch.nn.functional as F"
   ]
  },
  {
   "cell_type": "code",
   "execution_count": 5,
   "id": "2739aa7c-4765-45f2-a8c2-284d8d0b5b34",
   "metadata": {},
   "outputs": [],
   "source": [
    "def get_data_loader(dataset, batch_size, cuda=False):\n",
    "    return DataLoader(\n",
    "        dataset, batch_size=batch_size, shuffle=True,\n",
    "        **({'num_workers': 10, 'pin_memory': True} if cuda else {})\n",
    "    )"
   ]
  },
  {
   "cell_type": "code",
   "execution_count": 6,
   "id": "e2af4115-4820-4b5e-98f6-efe4665fe413",
   "metadata": {},
   "outputs": [],
   "source": [
    "# Train-Function AE\n",
    "def train_AE(model, dataset, epochs=20, \n",
    "         batch_size=32, img_size=32,\n",
    "         lr=0.0005, weight_decay=1e-3,\n",
    "         device=torch.device(\"cuda\" if torch.cuda.is_available() else \"cpu\")):\n",
    "    \n",
    "    # intitialize \n",
    "    resume=False  # set true to continue training\n",
    "    if resume:\n",
    "        model.load_state_dict(torch.load('./___________.pth',map_location=torch.device('cuda')))\n",
    "        model.to(torch.device(\"cuda:0\"))\n",
    "        epoch_start=xxx # set epoch counter to resume\n",
    "        print('model loaded')\n",
    "        resume=False\n",
    "    else:\n",
    "        epoch_start = 0\n",
    "        \n",
    "    \n",
    "    model = model.to(device)    \n",
    "    criterion = torch.nn.BCELoss(size_average=False) #input range [0,1]\n",
    "    optimizer = optim.Adam(model.parameters(), lr=lr, weight_decay=weight_decay)\n",
    "\n",
    "    if not os.path.exists(output_folder):\n",
    "            os.makedirs(output_folder)\n",
    "    data_root = './' \n",
    "    \n",
    "    # iterate over epochs\n",
    "    for epoch in range(epoch_start, epochs + 1):\n",
    "        model.train()\n",
    "        data_loader=get_data_loader(dataset, batch_size=batch_size,cuda=True)\n",
    "        print(\"Epoch {}\".format(epoch))\n",
    "        for batch_index, (x, _) in tqdm(enumerate(data_loader, 1)):\n",
    "            iteration = (epoch - 1) * (len(dataset) // batch_size) + batch_index\n",
    "            x = Variable(x).to(device)\n",
    "            x_reconstructed = model(x)\n",
    "            loss = criterion(x_reconstructed, x)        \n",
    "            optimizer.zero_grad()\n",
    "            loss.backward()\n",
    "            optimizer.step()\n",
    "\n",
    "  \n",
    "        if (epoch) % 2 == 0:\n",
    "            torch.save(model.state_dict(), './ae_SVHN_{}.pth'.format(epoch))\n",
    "        print(\"epoch : {}/{}, recon loss = {:.8f}\".format(epoch , epochs, loss))          "
   ]
  },
  {
   "cell_type": "code",
   "execution_count": 7,
   "id": "93152644-4212-4074-ab4e-d439221bf885",
   "metadata": {},
   "outputs": [],
   "source": [
    "# Train-Function VAE\n",
    "def train_VAE(model, dataset, epochs=20, \n",
    "         batch_size=32, img_size=32,\n",
    "         lr=1e-3, weight_decay=1e-3,\n",
    "         device=torch.device(\"cuda\" if torch.cuda.is_available() else \"cpu\")):\n",
    "    \n",
    "    \n",
    "    # initialize\n",
    "    resume=False # set true to continue training\n",
    "    if resume:\n",
    "         model.load_state_dict(torch.load('./_________.pth',map_location=torch.device('cuda')))  # insert model name\n",
    "        model.to(torch.device(\"cuda:0\"))\n",
    "        epoch_start=xxx  # set epoch counter to resume\n",
    "        print('model loaded')\n",
    "        resume=False\n",
    "    else:\n",
    "        epoch_start = 0\n",
    "    data_loader=get_data_loader(dataset, batch_size=batch_size,cuda=True)\n",
    "    \n",
    "\n",
    "    model = model.to(device)    \n",
    "    criterion = torch.nn.BCELoss(size_average=False)\n",
    "    optimizer = optim.Adam(model.parameters(), lr=lr, weight_decay=weight_decay)\n",
    "    \n",
    "    #iterate over epochs\n",
    "    for epoch in range(epochs):\n",
    "        model.train()\n",
    "        print(\"Epoch {}\".format(epoch))\n",
    "        for batch_index, (x, _) in tqdm(enumerate(data_loader, 1)):\n",
    "            x = x.to(device)\n",
    "            (mean, logvar), x_reconstructed = model(x)\n",
    "            penalization_loss = model.kl_divergence_loss(mean, logvar)\n",
    "            reconstruction_loss = criterion(x_reconstructed, x) / x.size(0)\n",
    "            loss = reconstruction_loss + penalization_loss\n",
    "            \n",
    "            optimizer.zero_grad()\n",
    "            loss.backward()\n",
    "            optimizer.step()\n",
    "            \n",
    "        print(\"epoch : {}/{}, recon loss = {:.8f}\".format(epoch + 1, epochs, loss))\n",
    "        if epoch % 2 == 0:\n",
    "            torch.save(model.state_dict(), './vae_SVHN_{}.pth'.format(epoch))\n",
    "            "
   ]
  },
  {
   "cell_type": "markdown",
   "id": "9c75b10c-0144-4870-a845-d254703364e0",
   "metadata": {},
   "source": [
    "### Training"
   ]
  },
  {
   "cell_type": "code",
   "execution_count": 27,
   "id": "3b67f722-3566-48cc-83af-e37a77ba07af",
   "metadata": {},
   "outputs": [
    {
     "name": "stdout",
     "output_type": "stream",
     "text": [
      "cuda\n"
     ]
    }
   ],
   "source": [
    "#load data\n",
    "path1 = %pwd\n",
    "device=torch.device(\"cuda\" if torch.cuda.is_available() else \"cpu\")\n",
    "print(device)\n",
    "\n",
    "trans_SVHN =transforms.ToTensor()\n",
    "dataset=SVHN(path1,split=\"train\", transform=trans_SVHN, download=False)"
   ]
  },
  {
   "cell_type": "markdown",
   "id": "006eddcf",
   "metadata": {},
   "source": [
    "#### Train VAE"
   ]
  },
  {
   "cell_type": "code",
   "execution_count": null,
   "id": "9f5b7a44",
   "metadata": {},
   "outputs": [],
   "source": [
    "# load model\n",
    "model = vae_SVHN(image_size=32, hidden_dim=20, z_size=20, device='cuda')"
   ]
  },
  {
   "cell_type": "code",
   "execution_count": null,
   "id": "6ab980aa",
   "metadata": {},
   "outputs": [],
   "source": [
    "import timeit\n",
    "import utils\n",
    "start = timeit.default_timer()\n",
    "epochs = 200\n",
    "train_VAE(model, dataset, epochs, batch_size=32, img_size=32,lr=0.0005, weight_decay=1e-3)\n",
    "end = timeit.default_timer()\n",
    "print(end-start)"
   ]
  },
  {
   "cell_type": "markdown",
   "id": "a12bc9f7",
   "metadata": {},
   "source": [
    "#### Train AE"
   ]
  },
  {
   "cell_type": "code",
   "execution_count": 28,
   "id": "b886c54c-6cba-4c44-b394-04872af7db5f",
   "metadata": {},
   "outputs": [],
   "source": [
    "#load model\n",
    "model = ae_SVHN(image_size=32, hidden_dim=20, z_size=20, device='cuda')"
   ]
  },
  {
   "cell_type": "code",
   "execution_count": null,
   "id": "bb95e360",
   "metadata": {},
   "outputs": [],
   "source": [
    "import timeit\n",
    "import utils\n",
    "start = timeit.default_timer()\n",
    "epochs = 200\n",
    "train_AE(model, dataset, epochs,   batch_size=32, img_size=32, lr=0.0005, weight_decay=1e-3,device='cuda')\n",
    "end = timeit.default_timer()\n",
    "print(end-start)"
   ]
  }
 ],
 "metadata": {
  "kernelspec": {
   "display_name": "Python 3 (ipykernel)",
   "language": "python",
   "name": "python3"
  },
  "language_info": {
   "codemirror_mode": {
    "name": "ipython",
    "version": 3
   },
   "file_extension": ".py",
   "mimetype": "text/x-python",
   "name": "python",
   "nbconvert_exporter": "python",
   "pygments_lexer": "ipython3",
   "version": "3.8.5"
  }
 },
 "nbformat": 4,
 "nbformat_minor": 5
}
